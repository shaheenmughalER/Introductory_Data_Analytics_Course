{
  "nbformat": 4,
  "nbformat_minor": 0,
  "metadata": {
    "colab": {
      "provenance": [],
      "include_colab_link": true
    },
    "kernelspec": {
      "name": "python3",
      "display_name": "Python 3"
    },
    "language_info": {
      "name": "python"
    }
  },
  "cells": [
    {
      "cell_type": "markdown",
      "metadata": {
        "id": "view-in-github",
        "colab_type": "text"
      },
      "source": [
        "<a href=\"https://colab.research.google.com/github/shaheenmughalER/Introductory_Data_Analytics_Course/blob/main/shaheen__Coding_assignment_pandas_basic_concept.ipynb\" target=\"_parent\"><img src=\"https://colab.research.google.com/assets/colab-badge.svg\" alt=\"Open In Colab\"/></a>"
      ]
    },
    {
      "cell_type": "markdown",
      "metadata": {
        "id": "EJPf6ALrcpJK"
      },
      "source": [
        "<a href=\"https://colab.research.google.com/drive/1WCJsT21jIbWisU3AXADHYohQD1UcL32A?usp=sharing\">\n",
        "  <img src=\"https://colab.research.google.com/assets/colab-badge.svg\" alt=\"Open In Colab\"/>\n",
        "</a>"
      ]
    },
    {
      "cell_type": "markdown",
      "metadata": {
        "id": "Vv5PN99tdINS"
      },
      "source": [
        "**Question 1**<br>\n",
        "Refer to the coding assignment on lists and dictionary.\n",
        "\n",
        "In the 3rd question of this assignment, we had created two dictionaries user_1 and user_2. Then added both of these to a list.\n",
        "\n",
        "Instead of creating a list create a dictionary with keys as 'user_1' and 'user_2'. The value of each key in this case would be a dictionary that you had created earlier as user_1 and user_2. This will create a dictionary of dictionary.\n",
        "\n",
        "Add one more user information into above dictionary of dictionary with keys as user_3.\n",
        "\n",
        "For eg. if user_1 information is as shown below"
      ]
    },
    {
      "cell_type": "markdown",
      "metadata": {
        "id": "rT2FcgDhi-DP"
      },
      "source": [
        "What is your name? Doris<br>\n",
        "What is your age? 29<br>\n",
        "What is your school name? TDP<br>\n",
        "What is your city name? Bangalore<br>\n",
        "What is your sex? F<br>\n",
        "\n",
        "then after saving it in final dictionary, it will look like"
      ]
    },
    {
      "cell_type": "markdown",
      "metadata": {
        "id": "zfhB6HJtjPhE"
      },
      "source": [
        "{'user_1': {'age': 29, 'city': 'Bangalore', 'name': 'Doris', 'sex': 'F'}}\n",
        "\n",
        "Use a for loop to take the information of 3 students from the user and save it in final_dict dictionary. (i.e. don't write input function code 3 times for each user)"
      ]
    },
    {
      "cell_type": "code",
      "metadata": {
        "id": "w10v961SgbQb",
        "colab": {
          "base_uri": "https://localhost:8080/"
        },
        "outputId": "a97cd9b2-426b-47d8-b61d-560e238e134d"
      },
      "source": [
        "user_deatils = 3\n",
        "final_dict = {}\n",
        "for i in range(user_deatils):\n",
        "    dict_name = input(\"Enter the name of user: \")\n",
        "    final_dict[dict_name]={}\n",
        "    name = input(\"What is your name?\")\n",
        "    age = int(input(\"What is yur age?\"))\n",
        "    school = input(\"What is your school name?\")\n",
        "    city = input(\"What is your city?\")\n",
        "    sex = input(\"What is your sex?\")\n",
        "    final_dict[dict_name][\"name\"] = name\n",
        "    final_dict[dict_name][\"age\"] = age\n",
        "    final_dict[dict_name][\"school\"]=school\n",
        "    final_dict[dict_name][\"city\"]=city\n",
        "    final_dict[dict_name][\"sex\"]=sex\n",
        "\n",
        "print(final_dict)"
      ],
      "execution_count": null,
      "outputs": [
        {
          "output_type": "stream",
          "name": "stdout",
          "text": [
            "Enter the name of user: user_1\n",
            "What is your name?Shaheen\n",
            "What is yur age?33\n",
            "What is your school name?DPS\n",
            "What is your city?Indore\n",
            "What is your sex?M\n",
            "Enter the name of user: user_2\n",
            "What is your name?Sana\n",
            "What is yur age?31\n",
            "What is your school name?LPS\n",
            "What is your city?Indore\n",
            "What is your sex?F\n",
            "Enter the name of user: user_3\n",
            "What is your name?Ridaaye\n",
            "What is yur age?4\n",
            "What is your school name?LPS\n",
            "What is your city?Mandsaur\n",
            "What is your sex?F\n",
            "{'user_1': {'name': 'Shaheen', 'age': 33, 'school': 'DPS', 'city': 'Indore', 'sex': 'M'}, 'user_2': {'name': 'Sana', 'age': 31, 'school': 'LPS', 'city': 'Indore', 'sex': 'F'}, 'user_3': {'name': 'Ridaaye', 'age': 4, 'school': 'LPS', 'city': 'Mandsaur', 'sex': 'F'}}\n"
          ]
        }
      ]
    },
    {
      "cell_type": "markdown",
      "metadata": {
        "id": "oZQJbJaBlOBd"
      },
      "source": [
        "**Question 2**<br>\n",
        "Create a pandas Series using the dictionary value of key 'user_1' in final_dict. "
      ]
    },
    {
      "cell_type": "code",
      "metadata": {
        "id": "paK20kMQjVt5",
        "colab": {
          "base_uri": "https://localhost:8080/"
        },
        "outputId": "da545ffd-e690-4fc9-fd51-66563e7e5103"
      },
      "source": [
        "import pandas as pd\n",
        "ser_final_dict_user_1 = pd.Series(final_dict['user_1'])\n",
        "ser_final_dict_user_1"
      ],
      "execution_count": null,
      "outputs": [
        {
          "output_type": "execute_result",
          "data": {
            "text/plain": [
              "name      Shaheen\n",
              "age            33\n",
              "school        DPS\n",
              "city       Indore\n",
              "sex             M\n",
              "dtype: object"
            ]
          },
          "metadata": {},
          "execution_count": 29
        }
      ]
    },
    {
      "cell_type": "markdown",
      "metadata": {
        "id": "BNUFIUIple5Y"
      },
      "source": [
        "**Question 3**<br>\n",
        "Create a dataframe using the dictionary of dictionary 'final_dict'."
      ]
    },
    {
      "cell_type": "code",
      "metadata": {
        "id": "SAa9Zj-Yj-qF",
        "colab": {
          "base_uri": "https://localhost:8080/"
        },
        "outputId": "233818ef-a299-4245-b859-6f9b9140e708"
      },
      "source": [
        "df = pd.DataFrame(final_dict)\n",
        "print(df)"
      ],
      "execution_count": null,
      "outputs": [
        {
          "output_type": "stream",
          "name": "stdout",
          "text": [
            "         user_1  user_2    user_3\n",
            "name    Shaheen    Sana   Ridaaye\n",
            "age          33      31         4\n",
            "school      DPS     LPS       LPS\n",
            "city     Indore  Indore  Mandsaur\n",
            "sex           M       F         F\n"
          ]
        }
      ]
    },
    {
      "cell_type": "markdown",
      "metadata": {
        "id": "U_NsT2jOmKLY"
      },
      "source": [
        "**Question 4**<br>\n",
        "In the above created dataframe, user_1,user_2 and user_3 will be columns and the attributes of user like name, age is a row. \n",
        "\n",
        "write a program using the above dataframe to make the attributes of user like name, age as columns while user_1,user_2 as rows. (i.e. transpose the dataframe that you created above) \n",
        "\n",
        "If possible try to use .loc functionality."
      ]
    },
    {
      "cell_type": "code",
      "metadata": {
        "id": "-7ldJHPbkJRJ",
        "colab": {
          "base_uri": "https://localhost:8080/",
          "height": 143
        },
        "outputId": "e8ac63e4-5214-46ec-a0d9-8dabe66f415f"
      },
      "source": [
        "df_transposed = df.T # or df1.transpose()\n",
        "df_transposed"
      ],
      "execution_count": null,
      "outputs": [
        {
          "output_type": "execute_result",
          "data": {
            "text/plain": [
              "           name age school      city sex\n",
              "user_1  Shaheen  33    DPS    Indore   M\n",
              "user_2     Sana  31    LPS    Indore   F\n",
              "user_3  Ridaaye   4    LPS  Mandsaur   F"
            ],
            "text/html": [
              "\n",
              "  <div id=\"df-877afc33-6bc6-4016-b142-7fc22e0c48f3\">\n",
              "    <div class=\"colab-df-container\">\n",
              "      <div>\n",
              "<style scoped>\n",
              "    .dataframe tbody tr th:only-of-type {\n",
              "        vertical-align: middle;\n",
              "    }\n",
              "\n",
              "    .dataframe tbody tr th {\n",
              "        vertical-align: top;\n",
              "    }\n",
              "\n",
              "    .dataframe thead th {\n",
              "        text-align: right;\n",
              "    }\n",
              "</style>\n",
              "<table border=\"1\" class=\"dataframe\">\n",
              "  <thead>\n",
              "    <tr style=\"text-align: right;\">\n",
              "      <th></th>\n",
              "      <th>name</th>\n",
              "      <th>age</th>\n",
              "      <th>school</th>\n",
              "      <th>city</th>\n",
              "      <th>sex</th>\n",
              "    </tr>\n",
              "  </thead>\n",
              "  <tbody>\n",
              "    <tr>\n",
              "      <th>user_1</th>\n",
              "      <td>Shaheen</td>\n",
              "      <td>33</td>\n",
              "      <td>DPS</td>\n",
              "      <td>Indore</td>\n",
              "      <td>M</td>\n",
              "    </tr>\n",
              "    <tr>\n",
              "      <th>user_2</th>\n",
              "      <td>Sana</td>\n",
              "      <td>31</td>\n",
              "      <td>LPS</td>\n",
              "      <td>Indore</td>\n",
              "      <td>F</td>\n",
              "    </tr>\n",
              "    <tr>\n",
              "      <th>user_3</th>\n",
              "      <td>Ridaaye</td>\n",
              "      <td>4</td>\n",
              "      <td>LPS</td>\n",
              "      <td>Mandsaur</td>\n",
              "      <td>F</td>\n",
              "    </tr>\n",
              "  </tbody>\n",
              "</table>\n",
              "</div>\n",
              "      <button class=\"colab-df-convert\" onclick=\"convertToInteractive('df-877afc33-6bc6-4016-b142-7fc22e0c48f3')\"\n",
              "              title=\"Convert this dataframe to an interactive table.\"\n",
              "              style=\"display:none;\">\n",
              "        \n",
              "  <svg xmlns=\"http://www.w3.org/2000/svg\" height=\"24px\"viewBox=\"0 0 24 24\"\n",
              "       width=\"24px\">\n",
              "    <path d=\"M0 0h24v24H0V0z\" fill=\"none\"/>\n",
              "    <path d=\"M18.56 5.44l.94 2.06.94-2.06 2.06-.94-2.06-.94-.94-2.06-.94 2.06-2.06.94zm-11 1L8.5 8.5l.94-2.06 2.06-.94-2.06-.94L8.5 2.5l-.94 2.06-2.06.94zm10 10l.94 2.06.94-2.06 2.06-.94-2.06-.94-.94-2.06-.94 2.06-2.06.94z\"/><path d=\"M17.41 7.96l-1.37-1.37c-.4-.4-.92-.59-1.43-.59-.52 0-1.04.2-1.43.59L10.3 9.45l-7.72 7.72c-.78.78-.78 2.05 0 2.83L4 21.41c.39.39.9.59 1.41.59.51 0 1.02-.2 1.41-.59l7.78-7.78 2.81-2.81c.8-.78.8-2.07 0-2.86zM5.41 20L4 18.59l7.72-7.72 1.47 1.35L5.41 20z\"/>\n",
              "  </svg>\n",
              "      </button>\n",
              "      \n",
              "  <style>\n",
              "    .colab-df-container {\n",
              "      display:flex;\n",
              "      flex-wrap:wrap;\n",
              "      gap: 12px;\n",
              "    }\n",
              "\n",
              "    .colab-df-convert {\n",
              "      background-color: #E8F0FE;\n",
              "      border: none;\n",
              "      border-radius: 50%;\n",
              "      cursor: pointer;\n",
              "      display: none;\n",
              "      fill: #1967D2;\n",
              "      height: 32px;\n",
              "      padding: 0 0 0 0;\n",
              "      width: 32px;\n",
              "    }\n",
              "\n",
              "    .colab-df-convert:hover {\n",
              "      background-color: #E2EBFA;\n",
              "      box-shadow: 0px 1px 2px rgba(60, 64, 67, 0.3), 0px 1px 3px 1px rgba(60, 64, 67, 0.15);\n",
              "      fill: #174EA6;\n",
              "    }\n",
              "\n",
              "    [theme=dark] .colab-df-convert {\n",
              "      background-color: #3B4455;\n",
              "      fill: #D2E3FC;\n",
              "    }\n",
              "\n",
              "    [theme=dark] .colab-df-convert:hover {\n",
              "      background-color: #434B5C;\n",
              "      box-shadow: 0px 1px 3px 1px rgba(0, 0, 0, 0.15);\n",
              "      filter: drop-shadow(0px 1px 2px rgba(0, 0, 0, 0.3));\n",
              "      fill: #FFFFFF;\n",
              "    }\n",
              "  </style>\n",
              "\n",
              "      <script>\n",
              "        const buttonEl =\n",
              "          document.querySelector('#df-877afc33-6bc6-4016-b142-7fc22e0c48f3 button.colab-df-convert');\n",
              "        buttonEl.style.display =\n",
              "          google.colab.kernel.accessAllowed ? 'block' : 'none';\n",
              "\n",
              "        async function convertToInteractive(key) {\n",
              "          const element = document.querySelector('#df-877afc33-6bc6-4016-b142-7fc22e0c48f3');\n",
              "          const dataTable =\n",
              "            await google.colab.kernel.invokeFunction('convertToInteractive',\n",
              "                                                     [key], {});\n",
              "          if (!dataTable) return;\n",
              "\n",
              "          const docLinkHtml = 'Like what you see? Visit the ' +\n",
              "            '<a target=\"_blank\" href=https://colab.research.google.com/notebooks/data_table.ipynb>data table notebook</a>'\n",
              "            + ' to learn more about interactive tables.';\n",
              "          element.innerHTML = '';\n",
              "          dataTable['output_type'] = 'display_data';\n",
              "          await google.colab.output.renderOutput(dataTable, element);\n",
              "          const docLink = document.createElement('div');\n",
              "          docLink.innerHTML = docLinkHtml;\n",
              "          element.appendChild(docLink);\n",
              "        }\n",
              "      </script>\n",
              "    </div>\n",
              "  </div>\n",
              "  "
            ]
          },
          "metadata": {},
          "execution_count": 31
        }
      ]
    },
    {
      "cell_type": "markdown",
      "metadata": {
        "id": "O-vY_n6hktoZ"
      },
      "source": [
        "**Question 5**<br>\n",
        "Using the above created dataframe, create a new dataframe containing name and age as column of all three users."
      ]
    },
    {
      "cell_type": "code",
      "metadata": {
        "id": "g7QlaLipnNty",
        "colab": {
          "base_uri": "https://localhost:8080/",
          "height": 143
        },
        "outputId": "181cca0f-6d91-47a0-d7e8-d07675246829"
      },
      "source": [
        "df_transposed[['name','age']]"
      ],
      "execution_count": null,
      "outputs": [
        {
          "output_type": "execute_result",
          "data": {
            "text/plain": [
              "           name age\n",
              "user_1  Shaheen  33\n",
              "user_2     Sana  31\n",
              "user_3  Ridaaye   4"
            ],
            "text/html": [
              "\n",
              "  <div id=\"df-3680f992-90b9-47b6-9f78-29141c50bc03\">\n",
              "    <div class=\"colab-df-container\">\n",
              "      <div>\n",
              "<style scoped>\n",
              "    .dataframe tbody tr th:only-of-type {\n",
              "        vertical-align: middle;\n",
              "    }\n",
              "\n",
              "    .dataframe tbody tr th {\n",
              "        vertical-align: top;\n",
              "    }\n",
              "\n",
              "    .dataframe thead th {\n",
              "        text-align: right;\n",
              "    }\n",
              "</style>\n",
              "<table border=\"1\" class=\"dataframe\">\n",
              "  <thead>\n",
              "    <tr style=\"text-align: right;\">\n",
              "      <th></th>\n",
              "      <th>name</th>\n",
              "      <th>age</th>\n",
              "    </tr>\n",
              "  </thead>\n",
              "  <tbody>\n",
              "    <tr>\n",
              "      <th>user_1</th>\n",
              "      <td>Shaheen</td>\n",
              "      <td>33</td>\n",
              "    </tr>\n",
              "    <tr>\n",
              "      <th>user_2</th>\n",
              "      <td>Sana</td>\n",
              "      <td>31</td>\n",
              "    </tr>\n",
              "    <tr>\n",
              "      <th>user_3</th>\n",
              "      <td>Ridaaye</td>\n",
              "      <td>4</td>\n",
              "    </tr>\n",
              "  </tbody>\n",
              "</table>\n",
              "</div>\n",
              "      <button class=\"colab-df-convert\" onclick=\"convertToInteractive('df-3680f992-90b9-47b6-9f78-29141c50bc03')\"\n",
              "              title=\"Convert this dataframe to an interactive table.\"\n",
              "              style=\"display:none;\">\n",
              "        \n",
              "  <svg xmlns=\"http://www.w3.org/2000/svg\" height=\"24px\"viewBox=\"0 0 24 24\"\n",
              "       width=\"24px\">\n",
              "    <path d=\"M0 0h24v24H0V0z\" fill=\"none\"/>\n",
              "    <path d=\"M18.56 5.44l.94 2.06.94-2.06 2.06-.94-2.06-.94-.94-2.06-.94 2.06-2.06.94zm-11 1L8.5 8.5l.94-2.06 2.06-.94-2.06-.94L8.5 2.5l-.94 2.06-2.06.94zm10 10l.94 2.06.94-2.06 2.06-.94-2.06-.94-.94-2.06-.94 2.06-2.06.94z\"/><path d=\"M17.41 7.96l-1.37-1.37c-.4-.4-.92-.59-1.43-.59-.52 0-1.04.2-1.43.59L10.3 9.45l-7.72 7.72c-.78.78-.78 2.05 0 2.83L4 21.41c.39.39.9.59 1.41.59.51 0 1.02-.2 1.41-.59l7.78-7.78 2.81-2.81c.8-.78.8-2.07 0-2.86zM5.41 20L4 18.59l7.72-7.72 1.47 1.35L5.41 20z\"/>\n",
              "  </svg>\n",
              "      </button>\n",
              "      \n",
              "  <style>\n",
              "    .colab-df-container {\n",
              "      display:flex;\n",
              "      flex-wrap:wrap;\n",
              "      gap: 12px;\n",
              "    }\n",
              "\n",
              "    .colab-df-convert {\n",
              "      background-color: #E8F0FE;\n",
              "      border: none;\n",
              "      border-radius: 50%;\n",
              "      cursor: pointer;\n",
              "      display: none;\n",
              "      fill: #1967D2;\n",
              "      height: 32px;\n",
              "      padding: 0 0 0 0;\n",
              "      width: 32px;\n",
              "    }\n",
              "\n",
              "    .colab-df-convert:hover {\n",
              "      background-color: #E2EBFA;\n",
              "      box-shadow: 0px 1px 2px rgba(60, 64, 67, 0.3), 0px 1px 3px 1px rgba(60, 64, 67, 0.15);\n",
              "      fill: #174EA6;\n",
              "    }\n",
              "\n",
              "    [theme=dark] .colab-df-convert {\n",
              "      background-color: #3B4455;\n",
              "      fill: #D2E3FC;\n",
              "    }\n",
              "\n",
              "    [theme=dark] .colab-df-convert:hover {\n",
              "      background-color: #434B5C;\n",
              "      box-shadow: 0px 1px 3px 1px rgba(0, 0, 0, 0.15);\n",
              "      filter: drop-shadow(0px 1px 2px rgba(0, 0, 0, 0.3));\n",
              "      fill: #FFFFFF;\n",
              "    }\n",
              "  </style>\n",
              "\n",
              "      <script>\n",
              "        const buttonEl =\n",
              "          document.querySelector('#df-3680f992-90b9-47b6-9f78-29141c50bc03 button.colab-df-convert');\n",
              "        buttonEl.style.display =\n",
              "          google.colab.kernel.accessAllowed ? 'block' : 'none';\n",
              "\n",
              "        async function convertToInteractive(key) {\n",
              "          const element = document.querySelector('#df-3680f992-90b9-47b6-9f78-29141c50bc03');\n",
              "          const dataTable =\n",
              "            await google.colab.kernel.invokeFunction('convertToInteractive',\n",
              "                                                     [key], {});\n",
              "          if (!dataTable) return;\n",
              "\n",
              "          const docLinkHtml = 'Like what you see? Visit the ' +\n",
              "            '<a target=\"_blank\" href=https://colab.research.google.com/notebooks/data_table.ipynb>data table notebook</a>'\n",
              "            + ' to learn more about interactive tables.';\n",
              "          element.innerHTML = '';\n",
              "          dataTable['output_type'] = 'display_data';\n",
              "          await google.colab.output.renderOutput(dataTable, element);\n",
              "          const docLink = document.createElement('div');\n",
              "          docLink.innerHTML = docLinkHtml;\n",
              "          element.appendChild(docLink);\n",
              "        }\n",
              "      </script>\n",
              "    </div>\n",
              "  </div>\n",
              "  "
            ]
          },
          "metadata": {},
          "execution_count": 32
        }
      ]
    }
  ]
}