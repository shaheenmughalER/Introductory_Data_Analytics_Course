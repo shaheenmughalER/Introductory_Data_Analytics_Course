{
  "nbformat": 4,
  "nbformat_minor": 0,
  "metadata": {
    "colab": {
      "provenance": [],
      "include_colab_link": true
    },
    "kernelspec": {
      "name": "python3",
      "display_name": "Python 3"
    },
    "language_info": {
      "name": "python"
    }
  },
  "cells": [
    {
      "cell_type": "markdown",
      "metadata": {
        "id": "view-in-github",
        "colab_type": "text"
      },
      "source": [
        "<a href=\"https://colab.research.google.com/github/shaheenmughalER/Introductory_Data_Analytics_Course/blob/main/sbm__Python_Day1.ipynb\" target=\"_parent\"><img src=\"https://colab.research.google.com/assets/colab-badge.svg\" alt=\"Open In Colab\"/></a>"
      ]
    },
    {
      "cell_type": "markdown",
      "source": [
        "# **Question 1**"
      ],
      "metadata": {
        "id": "34LnapRkmUrM"
      }
    },
    {
      "cell_type": "markdown",
      "source": [
        "Write a program which will find all such numbers which are divisible by 7 but are not a multiple of 5, between 2000 and 3200 (both included).\n",
        "\n",
        "The numbers obtained should be printed in a comma-separated sequence on a single line."
      ],
      "metadata": {
        "id": "9KQk_pOqtteD"
      }
    },
    {
      "cell_type": "code",
      "source": [
        "start = 2000\n",
        "end = 3200\n",
        "count =0\n",
        "my_list = list(range(2000, 3200))\n",
        "for i in my_list:\n",
        "    if (i)%7 ==0 and (i)!=5:\n",
        "        print(i)"
      ],
      "metadata": {
        "id": "VE2yREdOt0DV",
        "colab": {
          "base_uri": "https://localhost:8080/"
        },
        "outputId": "81e655e9-d1b7-4b92-e07d-a62c99485615"
      },
      "execution_count": 23,
      "outputs": [
        {
          "output_type": "stream",
          "name": "stdout",
          "text": [
            "2002\n",
            "2009\n",
            "2016\n",
            "2023\n",
            "2030\n",
            "2037\n",
            "2044\n",
            "2051\n",
            "2058\n",
            "2065\n",
            "2072\n",
            "2079\n",
            "2086\n",
            "2093\n",
            "2100\n",
            "2107\n",
            "2114\n",
            "2121\n",
            "2128\n",
            "2135\n",
            "2142\n",
            "2149\n",
            "2156\n",
            "2163\n",
            "2170\n",
            "2177\n",
            "2184\n",
            "2191\n",
            "2198\n",
            "2205\n",
            "2212\n",
            "2219\n",
            "2226\n",
            "2233\n",
            "2240\n",
            "2247\n",
            "2254\n",
            "2261\n",
            "2268\n",
            "2275\n",
            "2282\n",
            "2289\n",
            "2296\n",
            "2303\n",
            "2310\n",
            "2317\n",
            "2324\n",
            "2331\n",
            "2338\n",
            "2345\n",
            "2352\n",
            "2359\n",
            "2366\n",
            "2373\n",
            "2380\n",
            "2387\n",
            "2394\n",
            "2401\n",
            "2408\n",
            "2415\n",
            "2422\n",
            "2429\n",
            "2436\n",
            "2443\n",
            "2450\n",
            "2457\n",
            "2464\n",
            "2471\n",
            "2478\n",
            "2485\n",
            "2492\n",
            "2499\n",
            "2506\n",
            "2513\n",
            "2520\n",
            "2527\n",
            "2534\n",
            "2541\n",
            "2548\n",
            "2555\n",
            "2562\n",
            "2569\n",
            "2576\n",
            "2583\n",
            "2590\n",
            "2597\n",
            "2604\n",
            "2611\n",
            "2618\n",
            "2625\n",
            "2632\n",
            "2639\n",
            "2646\n",
            "2653\n",
            "2660\n",
            "2667\n",
            "2674\n",
            "2681\n",
            "2688\n",
            "2695\n",
            "2702\n",
            "2709\n",
            "2716\n",
            "2723\n",
            "2730\n",
            "2737\n",
            "2744\n",
            "2751\n",
            "2758\n",
            "2765\n",
            "2772\n",
            "2779\n",
            "2786\n",
            "2793\n",
            "2800\n",
            "2807\n",
            "2814\n",
            "2821\n",
            "2828\n",
            "2835\n",
            "2842\n",
            "2849\n",
            "2856\n",
            "2863\n",
            "2870\n",
            "2877\n",
            "2884\n",
            "2891\n",
            "2898\n",
            "2905\n",
            "2912\n",
            "2919\n",
            "2926\n",
            "2933\n",
            "2940\n",
            "2947\n",
            "2954\n",
            "2961\n",
            "2968\n",
            "2975\n",
            "2982\n",
            "2989\n",
            "2996\n",
            "3003\n",
            "3010\n",
            "3017\n",
            "3024\n",
            "3031\n",
            "3038\n",
            "3045\n",
            "3052\n",
            "3059\n",
            "3066\n",
            "3073\n",
            "3080\n",
            "3087\n",
            "3094\n",
            "3101\n",
            "3108\n",
            "3115\n",
            "3122\n",
            "3129\n",
            "3136\n",
            "3143\n",
            "3150\n",
            "3157\n",
            "3164\n",
            "3171\n",
            "3178\n",
            "3185\n",
            "3192\n",
            "3199\n"
          ]
        }
      ]
    },
    {
      "cell_type": "markdown",
      "source": [
        "# **Question 2**"
      ],
      "metadata": {
        "id": "q7Q3f5VLt2aU"
      }
    },
    {
      "cell_type": "markdown",
      "source": [
        "Write a Python program to accept the user's first and last name and then getting them printed in the the reverse order with a space between first name and last name."
      ],
      "metadata": {
        "id": "PwBuXilEt4l1"
      }
    },
    {
      "cell_type": "code",
      "source": [
        "user_f_name = input()\n",
        "user_l_name = input()\n",
        "txt_f=user_l_name + \" \" + user_f_name\n",
        "txt = txt_f[::-1]\n",
        "txt"
      ],
      "metadata": {
        "id": "TU5MbwOVt9YN",
        "colab": {
          "base_uri": "https://localhost:8080/",
          "height": 70
        },
        "outputId": "f4cdc777-2d6a-480c-c4b0-adff577972a2"
      },
      "execution_count": 38,
      "outputs": [
        {
          "name": "stdout",
          "output_type": "stream",
          "text": [
            "shaheen\n",
            "mughal\n"
          ]
        },
        {
          "output_type": "execute_result",
          "data": {
            "text/plain": [
              "'neehahs lahgum'"
            ],
            "application/vnd.google.colaboratory.intrinsic+json": {
              "type": "string"
            }
          },
          "metadata": {},
          "execution_count": 38
        }
      ]
    },
    {
      "cell_type": "markdown",
      "source": [
        "# **Question 3**"
      ],
      "metadata": {
        "id": "V3mFDb53t915"
      }
    },
    {
      "cell_type": "markdown",
      "source": [
        "Write a Python program to find the volume of a sphere with diameter 12 cm.\n",
        "\n",
        "Formula: V=4/3 * π * r3"
      ],
      "metadata": {
        "id": "mTwbibZCt_q4"
      }
    },
    {
      "cell_type": "code",
      "source": [
        "diameter = 12\n",
        "volume =(4/3)*3.142*(diameter**3)\n",
        "volume"
      ],
      "metadata": {
        "id": "6ahgshuguCRf",
        "colab": {
          "base_uri": "https://localhost:8080/"
        },
        "outputId": "929602eb-6584-4425-af4e-9adec734be7f"
      },
      "execution_count": 40,
      "outputs": [
        {
          "output_type": "execute_result",
          "data": {
            "text/plain": [
              "7239.168"
            ]
          },
          "metadata": {},
          "execution_count": 40
        }
      ]
    },
    {
      "cell_type": "markdown",
      "source": [
        "# **Question 4**"
      ],
      "metadata": {
        "id": "wimHMjxCuFhs"
      }
    },
    {
      "cell_type": "markdown",
      "source": [
        "Write a program which accepts a sequence of comma-separated numbers from console and generate a list."
      ],
      "metadata": {
        "id": "xYXkM2q2uHWT"
      }
    },
    {
      "cell_type": "code",
      "source": [
        "values = input(\"Input some comma seprated numbers : \")\n",
        "list = values.split(\",\")\n",
        "print('List : ',list)\n"
      ],
      "metadata": {
        "id": "9Tu3S8y5uKk8",
        "colab": {
          "base_uri": "https://localhost:8080/"
        },
        "outputId": "0a2dd756-bd29-4dba-f622-4aad7e7d79ab"
      },
      "execution_count": 48,
      "outputs": [
        {
          "output_type": "stream",
          "name": "stdout",
          "text": [
            "Input some comma seprated numbers : 2,3,4,5,6,7,8,800\n",
            "List :  ['2', '3', '4', '5', '6', '7', '8', '800']\n"
          ]
        }
      ]
    },
    {
      "cell_type": "markdown",
      "source": [
        "# **Question 5**"
      ],
      "metadata": {
        "id": "DVtJOTsYuNOe"
      }
    },
    {
      "cell_type": "markdown",
      "source": [
        "A. Create the below pattern using nested for loop in Python.\n",
        "\n",
        "```\n",
        "*\n",
        "* *\n",
        "* * *\n",
        "* * * *\n",
        "* * * * *\n",
        "```"
      ],
      "metadata": {
        "id": "0CHsDLD_uPp8"
      }
    },
    {
      "cell_type": "code",
      "source": [
        "\n",
        "def pattern_star(n):\n",
        "\tfor i in range(0, n):\n",
        "\t\tfor j in range(0, i+1):\n",
        "\t\t\t\tprint(\"* \",end=\"\")\n",
        "\t\tprint(\"\\r\")"
      ],
      "metadata": {
        "id": "c4j-WrLOuQwp"
      },
      "execution_count": 62,
      "outputs": []
    },
    {
      "cell_type": "code",
      "source": [
        "pattern_star(5)"
      ],
      "metadata": {
        "colab": {
          "base_uri": "https://localhost:8080/"
        },
        "id": "Mxjqhr5qalTc",
        "outputId": "c51bb3fb-cd9b-41e5-e9d8-7da85a9e73c9"
      },
      "execution_count": 63,
      "outputs": [
        {
          "output_type": "stream",
          "name": "stdout",
          "text": [
            "* \r\n",
            "* * \r\n",
            "* * * \r\n",
            "* * * * \r\n",
            "* * * * * \r\n"
          ]
        }
      ]
    },
    {
      "cell_type": "markdown",
      "source": [
        "B. Create the below pattern using nested for loop in python\n",
        "\n",
        "```\n",
        "* * * * *  \n",
        "* * * *  \n",
        "* * *  \n",
        "* *  \n",
        "*\n",
        "```"
      ],
      "metadata": {
        "id": "GAMPSUa82N-A"
      }
    },
    {
      "cell_type": "code",
      "source": [
        "def pattern_dec_star(n):\n",
        "    for i in range(n,0,-1):\n",
        "        for j in range(i,0,-1):\n",
        "            print(\"* \", end=\"\")\n",
        "        print(\"\\r\")"
      ],
      "metadata": {
        "id": "dkElg1RV2VBx"
      },
      "execution_count": 111,
      "outputs": []
    },
    {
      "cell_type": "code",
      "source": [
        "pattern_dec_star(5)"
      ],
      "metadata": {
        "colab": {
          "base_uri": "https://localhost:8080/"
        },
        "id": "g2eNThzml3Xz",
        "outputId": "b4b9a247-21b2-4e8c-800a-151efda49855"
      },
      "execution_count": 112,
      "outputs": [
        {
          "output_type": "stream",
          "name": "stdout",
          "text": [
            "* * * * * \r\n",
            "* * * * \r\n",
            "* * * \r\n",
            "* * \r\n",
            "* \r\n"
          ]
        }
      ]
    },
    {
      "cell_type": "markdown",
      "source": [
        "# **Question 6**"
      ],
      "metadata": {
        "id": "BYqg6b7-ubJT"
      }
    },
    {
      "cell_type": "markdown",
      "source": [
        "Write a Python program to reverse a word after accepting the input from the user."
      ],
      "metadata": {
        "id": "smYLDqJruc4C"
      }
    },
    {
      "cell_type": "code",
      "source": [
        "user= input()\n",
        "print(user[::-1])"
      ],
      "metadata": {
        "id": "lwLuMGO_udkx",
        "colab": {
          "base_uri": "https://localhost:8080/"
        },
        "outputId": "d6eef2e1-9f63-4499-a726-87fcfc5d41ac"
      },
      "execution_count": 113,
      "outputs": [
        {
          "output_type": "stream",
          "name": "stdout",
          "text": [
            "shaheen\n",
            "neehahs\n"
          ]
        }
      ]
    },
    {
      "cell_type": "markdown",
      "source": [
        "# **Question 7**"
      ],
      "metadata": {
        "id": "0XSaDu_tueMD"
      }
    },
    {
      "cell_type": "markdown",
      "source": [
        "Write a Python Program to print the given string in the format specified in the sample output.\n",
        "\n",
        "WE, THE PEOPLE OF INDIA, having solemnly resolved to constitute India into a\n",
        "SOVEREIGN, SOCIALIST, SECULAR, DEMOCRATIC REPUBLIC and to secure to all\n",
        "its citizens\n",
        "\n",
        "Sample Output:\n",
        "\n",
        "```\n",
        "WE, THE PEOPLE OF INDIA,\n",
        "      having solemnly resolved to constitute India into a SOVEREIGN, !\n",
        "         SOCIALIST, SECULAR, DEMOCRATIC REPUBLIC\n",
        "          and to secure to all its citizens\n",
        "```"
      ],
      "metadata": {
        "id": "JgLEHzrGuf_p"
      }
    },
    {
      "cell_type": "code",
      "source": [
        "print(\"WE, THE PEOPLE OF INDIA,\\n \\t having solemnly resolved to constitute India into a SOVEREIGN, !\\n\\t SOCIALIST, SECULAR, DEMOCRATIC REPUBLIC \\n \\t \\t and to secure to all its citizens \")\n"
      ],
      "metadata": {
        "id": "eUQlrOIIul_p",
        "colab": {
          "base_uri": "https://localhost:8080/"
        },
        "outputId": "71f25110-f4fc-4415-bc6c-be250d75c63d"
      },
      "execution_count": 137,
      "outputs": [
        {
          "output_type": "stream",
          "name": "stdout",
          "text": [
            "WE, THE PEOPLE OF INDIA,\n",
            " \t having solemnly resolved to constitute India into a SOVEREIGN, !\n",
            "\t SOCIALIST, SECULAR, DEMOCRATIC REPUBLIC \n",
            " \t \t and to secure to all its citizens \n"
          ]
        }
      ]
    },
    {
      "cell_type": "markdown",
      "source": [
        "# **Question 8**"
      ],
      "metadata": {
        "id": "SDXrfpwxGbAY"
      }
    },
    {
      "cell_type": "markdown",
      "metadata": {
        "id": "JcsXoWNgIT35"
      },
      "source": [
        "Write a function `sent_to_dict` that accepts a sentence as input from user and returns a dictionary with keys 'digits', 'lowercase' and 'uppercase'. The value of these keys is <br>\n",
        "* 'digits' - number of digits in the sentence\n",
        "* 'lowercase' - number of lowercase letter in the sentence\n",
        "* 'uppercase' - number of uppercase letter in the sentence"
      ]
    },
    {
      "cell_type": "markdown",
      "source": [],
      "metadata": {
        "id": "olAsBNaBxVIm"
      }
    },
    {
      "cell_type": "code",
      "metadata": {
        "id": "SAjJDEBdI5Oa"
      },
      "source": [
        "\n",
        "def sent_to_dict():\n",
        "    string=input(\"Enter string:\")\n",
        "    count1=0\n",
        "    count2=0\n",
        "    count3=0\n",
        "    for i in string:\n",
        "      if(i.islower()):\n",
        "            count1=count1+1\n",
        "\n",
        "      elif(i.isupper()):\n",
        "            count2=count2+1\n",
        "      elif(i.isdigit()):\n",
        "            count3=count3+1\n",
        "    print({\"lowercase\":f'{count1}',\"uppercase\":f'{count2}',\"digit\":f'{count3}'})\n",
        "\n",
        "\n",
        ""
      ],
      "execution_count": 177,
      "outputs": []
    },
    {
      "cell_type": "code",
      "source": [
        "sent_to_dict()"
      ],
      "metadata": {
        "colab": {
          "base_uri": "https://localhost:8080/"
        },
        "id": "PpzICZgpufwx",
        "outputId": "14945a60-7acf-4fb9-9308-2b10b7129459"
      },
      "execution_count": 178,
      "outputs": [
        {
          "output_type": "stream",
          "name": "stdout",
          "text": [
            "Enter string:Shaheen Beg Mughal 24\n",
            "{'lowercase': '13', 'uppercase': '3', 'digit': '2'}\n"
          ]
        }
      ]
    }
  ]
}