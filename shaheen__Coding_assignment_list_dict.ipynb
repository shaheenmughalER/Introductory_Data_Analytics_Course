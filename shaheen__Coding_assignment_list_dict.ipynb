{
  "nbformat": 4,
  "nbformat_minor": 0,
  "metadata": {
    "colab": {
      "provenance": [],
      "include_colab_link": true
    },
    "kernelspec": {
      "name": "python3",
      "display_name": "Python 3"
    },
    "language_info": {
      "name": "python"
    }
  },
  "cells": [
    {
      "cell_type": "markdown",
      "metadata": {
        "id": "view-in-github",
        "colab_type": "text"
      },
      "source": [
        "<a href=\"https://colab.research.google.com/github/shaheenmughalER/Introductory_Data_Analytics_Course/blob/main/shaheen__Coding_assignment_list_dict.ipynb\" target=\"_parent\"><img src=\"https://colab.research.google.com/assets/colab-badge.svg\" alt=\"Open In Colab\"/></a>"
      ]
    },
    {
      "cell_type": "markdown",
      "metadata": {
        "id": "9FEBdbaqPSd0"
      },
      "source": [
        "<a href=\"https://colab.research.google.com/github/OneLearn-github/Introductory_Data_Analytics_Course/blob/main/basic_python_revision/Coding_assignment_list_dict.ipynb\">\n",
        "  <img src=\"https://colab.research.google.com/assets/colab-badge.svg\" alt=\"Open In Colab\"/>\n",
        "</a>"
      ]
    },
    {
      "cell_type": "markdown",
      "metadata": {
        "id": "yQdjNa6SAJIj"
      },
      "source": [
        "**No1.**<br> \n",
        "Given a list as shown below<br>\n",
        "a = ['Ram',45,'Singh','Years'] \n",
        "\n",
        "Using the elements from the above list. \n",
        "\n",
        "print the following statement using one single line of code:<br>\n",
        "'The age of Ram Singh is 45 Years'.\n",
        "\n",
        "\n"
      ]
    },
    {
      "cell_type": "code",
      "metadata": {
        "id": "8VTIgiaNAQVm",
        "colab": {
          "base_uri": "https://localhost:8080/"
        },
        "outputId": "b70c676f-948a-4179-aa20-071ecc9d64bc"
      },
      "source": [
        "# given list\n",
        "a = ['Ram',45,'Singh','Years']\n",
        "#write the print statement\n",
        "print(\"The Age of\", a[0],a[2],\"is\",a[1],a[3])"
      ],
      "execution_count": null,
      "outputs": [
        {
          "output_type": "stream",
          "name": "stdout",
          "text": [
            "The Age of Ram Singh is 45 Years\n"
          ]
        }
      ]
    },
    {
      "cell_type": "markdown",
      "metadata": {
        "id": "MB7twI8aJXVD"
      },
      "source": [
        "**No2.**<br>\n",
        "Write a program which does the following:<br>\n",
        "STEP1. Take input from the user about his name, age, school, city and sex<br>\n",
        "STEP2. Form a student dictionary using the above information as keys and save it in variable user_1<br>\n",
        "STEP3. print the dictionary <br>\n",
        "\n",
        "For eg, if the user enters following information<br>\n",
        "name = Dave, age = 45, school = DPS, city = Delhi and sex = Male\n",
        "\n",
        "Following dictionary is printed<br>\n",
        "{name:Dave, age:45, school:DPS, city:Delhi, sex:Male}\n"
      ]
    },
    {
      "cell_type": "code",
      "metadata": {
        "id": "uX7zNLH6Kssa",
        "colab": {
          "base_uri": "https://localhost:8080/"
        },
        "outputId": "4f4e9b7c-f5b1-4bae-d31d-d287d975da1d"
      },
      "source": [
        "name =input(\"Enter a user name:-\")\n",
        "age = int(input(\"Enter a user age:-\"))\n",
        "school = input(\"Enter your School name:-\")\n",
        "City = input(\"Enter your city name:-\")\n",
        "Sex = input(\"Enter your sex:-\")\n",
        "variable_user_1= {'name':name,'age':age,'school':school,'City':City,'Sex':Sex}\n",
        "print(variable_user_1)"
      ],
      "execution_count": null,
      "outputs": [
        {
          "output_type": "stream",
          "name": "stdout",
          "text": [
            "Enter a user name:-shaheen\n",
            "Enter a user age:-33\n",
            "Enter your School name:-DPS\n",
            "Enter your city name:-Inodre\n",
            "Enter your sex:-Male\n",
            "{'name': 'shaheen', 'age': 33, 'school': 'DPS', 'City': 'Inodre', 'Sex': 'Male'}\n"
          ]
        }
      ]
    },
    {
      "cell_type": "markdown",
      "metadata": {
        "id": "lkrYe38mKwmX"
      },
      "source": [
        "**No.3**<br>\n",
        "Take the input from one more user using the above code. Save the information in a new variable user_2.\n",
        "\n",
        "Create a new list with variable name user_list. This list will contain the variables user_1 and user_2 as the two elements.\n",
        "\n",
        "Let's suppose <br>\n",
        "user_1 = {name:Dave, age:15, school:DPS, city:Delhi, sex:Male}\n",
        "user_2 = {name:Maria, age:14, school:DPS, city:Delhi, sex:Female}\n",
        "\n",
        "Print the following line using the elements from the list user_list.<br>\n",
        "We have two users with names Dave and Maria. The sum of their ages are 29.\n"
      ]
    },
    {
      "cell_type": "code",
      "source": [],
      "metadata": {
        "id": "_K7ldpbAqMIZ"
      },
      "execution_count": null,
      "outputs": []
    },
    {
      "cell_type": "code",
      "metadata": {
        "id": "I2NHK2MIMkym",
        "colab": {
          "base_uri": "https://localhost:8080/"
        },
        "outputId": "121fb805-262d-4451-84c7-498314749388"
      },
      "source": [
        "name_1 =input(\"Enter a user name:-\")\n",
        "age_1 = int(input(\"Enter a user age:-\"))\n",
        "school_1 = input(\"Enter your School name:-\")\n",
        "City_1 = input(\"Enter your city name:-\")\n",
        "Sex_1 = input(\"Enter your sex:-\")\n",
        "variable_user_1= {'name_1':name_1,'age_1':age_1,'school_1':school_1,'City_1':City_1,'Sex_1':Sex_1}\n",
        "name_2 =input(\"Enter a user name:-\")\n",
        "age_2 = int(input(\"Enter a user age:-\"))\n",
        "school_2 = input(\"Enter your School name:-\")\n",
        "City_2 = input(\"Enter your city name:-\")\n",
        "Sex_2 = input(\"Enter your sex:-\")\n",
        "variable_user_2= {'name_2':name_2,'age_2':age_2,'school_2':school_2,'City_2':City_2,'Sex_2':Sex_2}\n",
        "print(\"We have two user with\",name_1,'and',name_2,\".The sum of their age is\",age_1+age_2)"
      ],
      "execution_count": null,
      "outputs": [
        {
          "output_type": "stream",
          "name": "stdout",
          "text": [
            "Enter a user name:-shaheen\n",
            "Enter a user age:-33\n",
            "Enter your School name:-gbhssno2\n",
            "Enter your city name:-Mandsaur\n",
            "Enter your sex:-Male\n",
            "{'name_1': 'shaheen', 'age_1': 33, 'school_1': 'gbhssno2', 'City_1': 'Mandsaur', 'Sex_1': 'Male'}\n",
            "Enter a user name:-Sana\n",
            "Enter a user age:-31\n",
            "Enter your School name:-APS\n",
            "Enter your city name:-Nagda\n",
            "Enter your sex:-Female\n",
            "{'name_2': 'Sana', 'age_2': 31, 'school_2': 'APS', 'City_2': 'Nagda', 'Sex_2': 'Female'}\n",
            "We have two user with shaheen and Sana .The sum of their age is 64\n"
          ]
        }
      ]
    },
    {
      "cell_type": "markdown",
      "metadata": {
        "id": "RkvHreQTMlht"
      },
      "source": [
        "**No.4**<br>\n",
        "Given a list, write a Python program to swap first and last element of the list.\n",
        "\n",
        "Examples: \n",
        "\n",
        "Input : [12, 35, 9, 56, 24]<br>\n",
        "Output : [24, 35, 9, 56, 12]\n",
        "\n",
        "Input : [1, 2, 3]<br>\n",
        "Output : [3, 2, 1]\n"
      ]
    },
    {
      "cell_type": "code",
      "metadata": {
        "id": "EyOnomQrO7_7",
        "colab": {
          "base_uri": "https://localhost:8080/"
        },
        "outputId": "55fbc55e-a696-411d-bc08-074dbaf0082e"
      },
      "source": [
        "# take the below example list \n",
        "exp_list = [1,23,4,96]\n",
        "print(exp_list[::-1])\n",
        "# print a new list with the output [96,23,4,1]"
      ],
      "execution_count": null,
      "outputs": [
        {
          "output_type": "stream",
          "name": "stdout",
          "text": [
            "[96, 4, 23, 1]\n"
          ]
        }
      ]
    }
  ]
}