{
  "nbformat": 4,
  "nbformat_minor": 0,
  "metadata": {
    "colab": {
      "provenance": [],
      "include_colab_link": true
    },
    "kernelspec": {
      "name": "python3",
      "display_name": "Python 3"
    },
    "language_info": {
      "name": "python"
    }
  },
  "cells": [
    {
      "cell_type": "markdown",
      "metadata": {
        "id": "view-in-github",
        "colab_type": "text"
      },
      "source": [
        "<a href=\"https://colab.research.google.com/github/shaheenmughalER/Introductory_Data_Analytics_Course/blob/main/Coding_assignment_printvariablesdatatypesformatting.ipynb\" target=\"_parent\"><img src=\"https://colab.research.google.com/assets/colab-badge.svg\" alt=\"Open In Colab\"/></a>"
      ]
    },
    {
      "cell_type": "markdown",
      "metadata": {
        "id": "Km0Ocy9dl1IY"
      },
      "source": [
        "<a href=\"https://colab.research.google.com/github/OneLearn-github/Introductory_Data_Analytics_Course/blob/main/basic_python_revision/Coding_assignment_printvariablesdatatypesformatting.ipynb\">\n",
        "  <img src=\"https://colab.research.google.com/assets/colab-badge.svg\" alt=\"Open In Colab\"/>\n",
        "</a>"
      ]
    },
    {
      "cell_type": "markdown",
      "metadata": {
        "id": "yphVovgFmiiJ"
      },
      "source": [
        "**No1. Create a program that asks the user to enter their name and their age.**<br>\n",
        "Print out a message addressed to them that tells them the year that they will turn 100 years old. (Take current Year as 2021)"
      ]
    },
    {
      "cell_type": "code",
      "metadata": {
        "id": "3D-_jzfGoeHT"
      },
      "source": [],
      "execution_count": null,
      "outputs": []
    },
    {
      "cell_type": "markdown",
      "metadata": {
        "collapsed": "true",
        "id": "lpPRTRuumiiK"
      },
      "source": [
        "HINT for Question 1"
      ]
    },
    {
      "cell_type": "markdown",
      "metadata": {
        "id": "63vJwPLgmiiL"
      },
      "source": [
        "* Remember when we take user input using input function it is a string and for applying numerical operation on age in above case we need to convert it to integer."
      ]
    },
    {
      "cell_type": "markdown",
      "metadata": {
        "id": "VJpuXvPVmiiQ"
      },
      "source": [
        "**No 2. Take a five digit integer number as input from user. Print the digits at it ones, tens , hundreds, thousands and ten thousands place digit in the five digit number.**\n",
        "\n",
        "For eg. if the user input is - 59682\n",
        "\n",
        "then the final output should look like.\n",
        "\n",
        "Digit at ones place - 2<br>\n",
        "Digit at tens place - 8<br>\n",
        "Digit at hundreds place - 6<br>\n",
        "Digit at thousands place - 9<br>\n",
        "Digit at ten thousands place - 5<br>"
      ]
    },
    {
      "cell_type": "code",
      "metadata": {
        "id": "KLr39ZyvoxjG"
      },
      "source": [],
      "execution_count": null,
      "outputs": []
    },
    {
      "cell_type": "markdown",
      "metadata": {
        "collapsed": "true",
        "id": "ZGjuKAI0miiR"
      },
      "source": [
        "HINT for question 2"
      ]
    },
    {
      "cell_type": "markdown",
      "metadata": {
        "id": "cwbVxhDdmiiR"
      },
      "source": [
        "You can get the tens digit of a number in the following ways."
      ]
    },
    {
      "cell_type": "code",
      "metadata": {
        "id": "YVjRcfRWmiiR",
        "outputId": "0c48a51d-bd17-4728-c012-b5f74dd7cf7a"
      },
      "source": [
        "a = 2489\n",
        "remainder_10 = a%10 # % operator gives the remainder that we would get after dividing two numbers\n",
        "remainder_100 = a%100\n",
        "print(remainder_10) # 9\n",
        "print(remainder_100) # 89\n",
        "digit_at_tens_place = int((remainder_100 - remainder_10)/10) # (89 - 9)/10 = 80/10 = 8\n",
        "print(digit_at_tens_place)"
      ],
      "execution_count": null,
      "outputs": [
        {
          "name": "stdout",
          "output_type": "stream",
          "text": [
            "9\n",
            "89\n",
            "8\n"
          ]
        }
      ]
    },
    {
      "cell_type": "markdown",
      "metadata": {
        "id": "3yPLZ0kWmiiT"
      },
      "source": [
        "**No. 3 Write a program to output the discounted price of an item at a discount of 10%. Take the price of item as user input.**<br>"
      ]
    },
    {
      "cell_type": "code",
      "metadata": {
        "id": "L8jmdb2SmiiT"
      },
      "source": [],
      "execution_count": null,
      "outputs": []
    },
    {
      "cell_type": "markdown",
      "metadata": {
        "id": "7HdHYTFnmiiT"
      },
      "source": [
        "**No. 4Write a Python program to print the following string in a specific format (see the output).**<br>\n",
        "Sample String : \"Twinkle, twinkle, little star, How I wonder what you are! Up above the world so high, Like a diamond in the sky. Twinkle, twinkle, little star, How I wonder what you are\" <br>\n",
        "\n",
        "Output: (where there is an indent you can assume it is tab space, so in line 2 below it is one tab space and in line 3 below it 2 tab space.<br>\n"
      ]
    },
    {
      "cell_type": "markdown",
      "metadata": {
        "id": "LKG04DYunaS_"
      },
      "source": [
        "![twinkle_twinkle_string.png](https://drive.google.com/uc?export=view&id=1IM7Gzhw7mzp5xep0gqMyYPI0mLhH2U78)"
      ]
    },
    {
      "cell_type": "code",
      "metadata": {
        "id": "MtPey7jRpTwR"
      },
      "source": [],
      "execution_count": null,
      "outputs": []
    }
  ]
}